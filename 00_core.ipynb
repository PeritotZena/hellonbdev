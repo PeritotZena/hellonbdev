{
 "cells": [
  {
   "cell_type": "code",
   "execution_count": null,
   "metadata": {},
   "outputs": [],
   "source": [
    "# default_exp core"
   ]
  },
  {
   "cell_type": "markdown",
   "metadata": {},
   "source": [
    "# Finance\n",
    "\n",
    "> API details."
   ]
  },
  {
   "cell_type": "code",
   "execution_count": null,
   "metadata": {},
   "outputs": [],
   "source": [
    "#hide\n",
    "from nbdev.showdoc import *"
   ]
  },
  {
   "cell_type": "code",
   "execution_count": null,
   "metadata": {},
   "outputs": [],
   "source": [
    "#export\n",
    "def say_hello(to):\n",
    "    \"Say hello to somebody\"\n",
    "    return f'Hello {to}!'"
   ]
  },
  {
   "cell_type": "code",
   "execution_count": null,
   "metadata": {},
   "outputs": [],
   "source": [
    "#export\n",
    "#import all relevant libraries\n",
    "#import all the relevant libraries\n",
    "#import codecademylib3_seaborn\n",
    "import pandas as pd\n",
    "import pandas_datareader.data as web\n",
    "import pandas_datareader.wb as wb\n",
    "import numpy as np\n",
    "from datetime import datetime"
   ]
  },
  {
   "cell_type": "code",
   "execution_count": null,
   "metadata": {},
   "outputs": [],
   "source": [
    "#import data\n",
    "gold_prices=pd.read_csv('gold_prices.csv')\n",
    "crude_oil_prices=pd.read_csv('crude_oil_prices.csv')"
   ]
  },
  {
   "cell_type": "markdown",
   "metadata": {},
   "source": [
    "RANDOM TEXT FOR TEST"
   ]
  },
  {
   "cell_type": "code",
   "execution_count": null,
   "metadata": {},
   "outputs": [],
   "source": [
    "#set start & end date\n",
    "start=datetime(1999, 1, 1)\n",
    "end=datetime(2019, 1, 1)\n",
    "nasdaq_data=web.DataReader('NASDAQ100', 'fred', start, end)\n",
    "sap_data=web.DataReader('SP500', 'fred', start, end)"
   ]
  },
  {
   "cell_type": "code",
   "execution_count": null,
   "metadata": {},
   "outputs": [],
   "source": [
    "#download data from the world bank\n",
    "gdp_data=wb.download(indicator=\"NY.GDP.MKTP.CD\", country=['US'], start=start, end=end)\n",
    "\n",
    "export_data=wb.download(indicator=\"NE.EXP.GNFS.CN\", country=['US'], start=start, end=end)"
   ]
  },
  {
   "cell_type": "code",
   "execution_count": null,
   "metadata": {},
   "outputs": [],
   "source": [
    "#export\n",
    "#new function for log returns\n",
    "def log_return(prices):\n",
    "  np.log(prices / prices.shift(1))"
   ]
  },
  {
   "cell_type": "code",
   "execution_count": null,
   "metadata": {},
   "outputs": [],
   "source": [
    "#print out results\n",
    "gold_returns=log_return(gold_prices['Gold_Price'])\n",
    "crude_oil_returns = log_return(crude_oil_prices['Crude_Oil_Price'])\n",
    "nasdaq_returns = log_return(nasdaq_data['NASDAQ100'])\n",
    "sap_returns = log_return(sap_data['SP500'])\n",
    "gdp_returns = log_return(gdp_data['NY.GDP.MKTP.CD'])\n",
    "export_returns = log_return(export_data['NE.EXP.GNFS.CN'])\n",
    "#calculate variances\n",
    "\n",
    "print(gold_returns.var())\n",
    "print(crude_oil_returnss.var())\n",
    "print(nasdaq_returns.var())\n",
    "print(sap_returns.var())\n",
    "print(gdp_returns.var())\n",
    "print(export_returns.var())"
   ]
  },
  {
   "cell_type": "markdown",
   "metadata": {},
   "source": [
    "Again a test for notebook information."
   ]
  }
 ],
 "metadata": {
  "kernelspec": {
   "display_name": "Python 3",
   "language": "python",
   "name": "python3"
  },
  "language_info": {
   "codemirror_mode": {
    "name": "ipython",
    "version": 3
   },
   "file_extension": ".py",
   "mimetype": "text/x-python",
   "name": "python",
   "nbconvert_exporter": "python",
   "pygments_lexer": "ipython3",
   "version": "3.9.1"
  }
 },
 "nbformat": 4,
 "nbformat_minor": 2
}
